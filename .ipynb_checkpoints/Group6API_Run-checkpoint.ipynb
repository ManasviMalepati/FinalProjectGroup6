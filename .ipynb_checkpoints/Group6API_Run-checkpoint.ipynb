{
 "cells": [
  {
   "cell_type": "code",
   "execution_count": 13,
   "id": "b035c234-0f2e-4406-802c-29668311250b",
   "metadata": {},
   "outputs": [],
   "source": [
    "import requests\n",
    "import json\n",
    "import pandas as pd\n",
    "\n",
    "base_url = \"http://localhost:8001\""
   ]
  },
  {
   "cell_type": "markdown",
   "id": "72220698-00d5-4d67-8e38-a393ea8c801a",
   "metadata": {},
   "source": [
    "## API Options:"
   ]
  },
  {
   "cell_type": "code",
   "execution_count": 14,
   "id": "dff80ed6-b1d6-44cf-85bc-0c9a8820f2c5",
   "metadata": {},
   "outputs": [
    {
     "name": "stdout",
     "output_type": "stream",
     "text": [
      "\n",
      "    Welcome to Group 6's Inflation Information API. Here are the options you can use:\n",
      "    1. /api/aggregate_data: Aggregate most recent data. (Run first!)\n",
      "    2. /api/get_metros: Returns a list of searchable metros. \n",
      "    3. /api/get_means: Returns means for city identified in input. See example. \n",
      "    4. /api/get_correlations: Returns correlations on means for two of the following metrics: 'zillow_rent_index_value', 'avg_household_earnings', 'unleaded_gas_cpi', 'electricity_cpi', 'utility_gas_cpi'\n",
      "    5. /api/get_earnings_data : Takes a city_name: {city} and returns all earnings data available for that city. \n",
      "    \n"
     ]
    }
   ],
   "source": [
    "response = requests.get(base_url)\n",
    "print(response.text)"
   ]
  },
  {
   "cell_type": "markdown",
   "id": "45024c3c-0181-4bc5-8ad6-c8f5358dbb6e",
   "metadata": {},
   "source": [
    "## Aggregate Most Recent Data"
   ]
  },
  {
   "cell_type": "code",
   "execution_count": 15,
   "id": "1177f80d-181f-4185-86fd-abe97d6d3553",
   "metadata": {},
   "outputs": [
    {
     "name": "stdout",
     "output_type": "stream",
     "text": [
      "Message: {'message': 'data successfully aggregated'}\n"
     ]
    }
   ],
   "source": [
    "url = 'http://localhost:8001/api/aggregate_data'\n",
    "response = requests.post(url)\n",
    "print('Message:', json.loads(response.content))"
   ]
  },
  {
   "cell_type": "markdown",
   "id": "d6f9220e-70e6-491d-9edd-bd81a6dca0a5",
   "metadata": {},
   "source": [
    "## Get Available Metros"
   ]
  },
  {
   "cell_type": "code",
   "execution_count": 16,
   "id": "102e0794-cdec-4ec3-90fc-5800bd97e248",
   "metadata": {},
   "outputs": [
    {
     "name": "stdout",
     "output_type": "stream",
     "text": [
      "Status Code: 200\n",
      "   Code          Metro Name\n",
      "0   ATL         Atlanta, GA\n",
      "1   BAL       Baltimore, MD\n",
      "2   BOS          Boston, MA\n",
      "3   BUF         Buffalo, NY\n",
      "4   CHI         Chicago, IL\n",
      "5   CIN      Cincinnati, OH\n",
      "6   CLE       Cleveland, OH\n",
      "7   DAL          Dallas, TX\n",
      "8   DEN          Denver, CO\n",
      "9   DET         Detroit, MI\n",
      "10  HON  Urban Honolulu, HI\n",
      "11  HOU         Houston, TX\n",
      "12  KAN     Kansas City, MO\n",
      "13  LOS     Los Angeles, CA\n",
      "14  MIA           Miami, FL\n",
      "15  MIL       Milwaukee, WI\n",
      "16  MIN     Minneapolis, MN\n",
      "17  NEW        New York, NY\n",
      "18  PHI    Philadelphia, PA\n",
      "19  PHO         Phoenix, AZ\n",
      "20  PIT      Pittsburgh, PA\n",
      "21  POR        Portland, OR\n",
      "22  RIV       Riverside, CA\n",
      "23  SAN   San Francisco, CA\n",
      "24  SEA         Seattle, WA\n",
      "25  STL       St. Louis, MO\n",
      "26  TAM           Tampa, FL\n",
      "27  WAS      Washington, DC\n"
     ]
    }
   ],
   "source": [
    "url = 'http://localhost:8001/api/get_metros'\n",
    "response = requests.get(url)\n",
    "data = response.json()\n",
    "df = pd.DataFrame(list(data.items()), columns=['Code', 'Metro Name'])\n",
    "print('Status Code:', response.status_code)\n",
    "print(df)"
   ]
  },
  {
   "cell_type": "markdown",
   "id": "65c2083d-f816-4e3e-97be-0a1ebd9cf20e",
   "metadata": {},
   "source": [
    "## GET METRICS FOR SELECTED METRO\n",
    "Accepts JSON object containing requested metro code and year (2015-2019, 2021-2022) from list above. Example: {'metro' : 'ATL', 'year': 2019 }"
   ]
  },
  {
   "cell_type": "code",
   "execution_count": 17,
   "id": "f3623897-9093-4e6c-908f-bf07cbb856c7",
   "metadata": {},
   "outputs": [
    {
     "name": "stdout",
     "output_type": "stream",
     "text": [
      "Status Code: 200\n",
      "Available Metrics: {'Avg Household Earnings': 2294560.0, 'Electricity CPI': 0.12, 'Metro': 'Atlanta, GA', 'Unleaded Gasoline CPI': 2.42, 'Utility Gas CPI': 1.76, 'Year': 2019, 'Zillow Rent Index': 1398.47}\n"
     ]
    }
   ],
   "source": [
    "url = 'http://localhost:8001/api/get_means'\n",
    "data = { 'metro': 'ATL', 'year' : 2019 }\n",
    "response = requests.get(url, json=data)\n",
    "print('Status Code:', response.status_code)\n",
    "print('Available Metrics:', json.loads(response.content))"
   ]
  },
  {
   "cell_type": "markdown",
   "id": "bc86d9af-07f3-4e44-b9a7-24ab01eb7544",
   "metadata": {},
   "source": [
    "## Get Correlations. \n",
    "This example uses ZORI and CPI (unleaded gas)"
   ]
  },
  {
   "cell_type": "code",
   "execution_count": 18,
   "id": "dff7180a-9b31-4a3a-b131-8610243625d0",
   "metadata": {},
   "outputs": [
    {
     "name": "stdout",
     "output_type": "stream",
     "text": [
      "Correlation: {'Correlation': 0.590290161161376, 'Metrics': 'zillow_rent_index_value ~ unleaded_gas_cpi'}\n"
     ]
    }
   ],
   "source": [
    "url = 'http://localhost:8001/api/get_correlations'\n",
    "data = { 'metric1': 'zillow_rent_index_value', 'metric2': 'unleaded_gas_cpi' }\n",
    "response = requests.get(url, json=data)\n",
    "print('Correlation:', json.loads(response.content))"
   ]
  },
  {
   "cell_type": "markdown",
   "id": "3e58d524-82cd-49f1-a518-665a2195487f",
   "metadata": {},
   "source": [
    "## See Average Earning Data for City\n",
    "Enter desired city. Ex: La Crosse, WI"
   ]
  },
  {
   "cell_type": "code",
   "execution_count": 19,
   "id": "a2a2ff85-8905-4ea2-8c2d-f9571ba127ae",
   "metadata": {},
   "outputs": [
    {
     "name": "stdout",
     "output_type": "stream",
     "text": [
      "Average Household Earnings by Year for: La Crosse\n",
      "   avg_household_earnings  year\n",
      "0                   54008  2015\n",
      "1                   55390  2016\n",
      "2                   55940  2017\n",
      "3                   56157  2018\n",
      "4                   56515  2019\n",
      "5                   58000  2021\n",
      "6                   59350  2022\n",
      "7                   59350  2022\n"
     ]
    }
   ],
   "source": [
    "city_name = 'La Crosse'\n",
    "\n",
    "url = 'http://localhost:8001/api/get_earnings_data'\n",
    "response = requests.post(url, json={'city_name': city_name})\n",
    "json_data = response.json()\n",
    "if json_data:\n",
    "    df = pd.DataFrame(json_data)\n",
    "    print(f\"Average Household Earnings by Year for: {city_name}\")\n",
    "    print(df)\n",
    "else:\n",
    "    print(\"No data to display.\")"
   ]
  },
  {
   "cell_type": "code",
   "execution_count": null,
   "id": "87134655-aa5f-4acf-85cd-255360fea791",
   "metadata": {},
   "outputs": [],
   "source": []
  }
 ],
 "metadata": {
  "kernelspec": {
   "display_name": "Python 3 (ipykernel)",
   "language": "python",
   "name": "python3"
  },
  "language_info": {
   "codemirror_mode": {
    "name": "ipython",
    "version": 3
   },
   "file_extension": ".py",
   "mimetype": "text/x-python",
   "name": "python",
   "nbconvert_exporter": "python",
   "pygments_lexer": "ipython3",
   "version": "3.10.12"
  }
 },
 "nbformat": 4,
 "nbformat_minor": 5
}

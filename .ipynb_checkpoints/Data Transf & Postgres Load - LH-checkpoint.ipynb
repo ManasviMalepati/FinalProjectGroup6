{
 "cells": [
  {
   "cell_type": "code",
   "execution_count": 16,
   "id": "d3c691c7-32f9-47f6-a28e-ade4f8ad3bb4",
   "metadata": {},
   "outputs": [],
   "source": [
    "import psycopg2\n",
    "from psycopg2 import sql\n",
    "import pandas as pd\n",
    "import numpy as np"
   ]
  },
  {
   "cell_type": "markdown",
   "id": "4df1384d-dbf6-4c33-aeaf-cf849c85ed04",
   "metadata": {},
   "source": [
    "### LOAD SOURCE DATA TO PYTHON"
   ]
  },
  {
   "cell_type": "markdown",
   "id": "d39e580f-5604-4bb2-9756-620137a28ccf",
   "metadata": {},
   "source": [
    "The following data needs to be in data folder:\n",
    "- bls data: ap.data.0.Current, ap.series, ap.area\n",
    "- zillow data: metro_zori_uc_sfrcondomfr_sm_month.csv\n",
    "- census data: ACSDT1Y2015.B19051-Data.csv, ACSDT1Y2016.B19051-Data.csv, ACSDT1Y2017.B19051-Data.csv, ACSDT1Y2018.B19051-Data.csv, ACSDT1Y2019.B19051-Data.csv, ACSDT1Y2021.B19051-Data.csv, ACSDT1Y2022.B19051-Data.csv\n",
    "- mapping file: geo_map.csv\n"
   ]
  },
  {
   "cell_type": "code",
   "execution_count": 3,
   "id": "4a2c9284-2546-4216-8fd1-bb69fd818e71",
   "metadata": {},
   "outputs": [],
   "source": [
    "# BLS DATA\n",
    "\n",
    "# read bls cpi data  \n",
    "source_bls_cpi = pd.read_csv( \"CPIData/ap.data.0.Current\", sep='\\t',\n",
    "            dtype =  { 'series_id': str, 'year': int, 'period': str, 'value': float, 'footnote_codes': str } )\n",
    "\n",
    "# read bls series (product types) attribute data \n",
    "source_bls_series = pd.read_csv( \"CPIData/ap.series\", sep='\\t' )\n",
    "\n",
    "# read bls geo attribute data\n",
    "source_bls_geo = pd.read_csv( \"CPIData/ap.area\", sep='\\t' )"
   ]
  },
  {
   "cell_type": "code",
   "execution_count": 4,
   "id": "5ddf9f85-6182-4d0e-9ef6-4e16b4246062",
   "metadata": {},
   "outputs": [],
   "source": [
    "# ZILLOW DATA \n",
    "\n",
    "# read zillow data\n",
    "source_zillow = pd.read_csv( \"ZORIData/metro_zori_uc_sfrcondomfr_sm_month.csv\" )"
   ]
  },
  {
   "cell_type": "code",
   "execution_count": 5,
   "id": "0301f20f-c4e2-40f0-a528-0e01a694beb3",
   "metadata": {},
   "outputs": [],
   "source": [
    "# CENSUS EARNINGS DATA \n",
    "\n",
    "# create data frame to lead each census year into\n",
    "source_census = pd.DataFrame()\n",
    "columns = [\"geography\", \"geographic_area_name\", \n",
    "           \"estimate_total\", \"margin_of_error_total\",\n",
    "           \"estimate_total_with_earnings\", \"margin_of_error_total_with_earnings\",\n",
    "           \"estimate_total_no_earnings\", \"margin_of_error_total_no_earnings\", \n",
    "           \"na\"]\n",
    "           \n",
    "\n",
    "# loop through available years of data\n",
    "census_years = [ 2015, 2016, 2017, 2018, 2019, 2021, 2022 ]\n",
    "for year in census_years: \n",
    "    # read in file\n",
    "    census_temp = pd.read_csv( \"CensusEarningsData/ACSDT1Y\"+str(year)+\".B19051-Data.csv\", header=1 )\n",
    "    # rename columns for consistency when appending\n",
    "    census_temp.columns = columns \n",
    "    # add year column\n",
    "    census_temp[\"year\"] = year \n",
    "    # insert into df to union all data files \n",
    "    source_census = pd.concat( [source_census, census_temp], ignore_index = True )\n"
   ]
  },
  {
   "cell_type": "code",
   "execution_count": 7,
   "id": "831f3b6d-783b-4fcc-b6ca-c5aecb73ad19",
   "metadata": {},
   "outputs": [],
   "source": [
    "# read in geo_map, no modifications need\n",
    "source_geo_map = pd.read_csv( \"geo_map.csv\"  )"
   ]
  },
  {
   "cell_type": "markdown",
   "id": "ee5ce90a-b475-43a7-a949-1d2fd60de7b9",
   "metadata": {},
   "source": [
    "### CLEAN AND TRANSORM DATA TO BE LOADED TO DATABASE"
   ]
  },
  {
   "cell_type": "code",
   "execution_count": 88,
   "id": "3dcf4c41-b892-4c09-9f45-8d27b8a36f2e",
   "metadata": {},
   "outputs": [],
   "source": [
    "# BLS CPI DATA \n",
    "\n",
    "# copy source data \n",
    "bronze_bls_cpi = source_bls_cpi.copy()\n",
    "\n",
    "# rename columns to remove white spaces \n",
    "bronze_bls_cpi.columns = [\"series_id\", \"year\", \"period\", \"cpi_value\", \"footnotes\"]\n",
    "\n",
    "# convert period to month number\n",
    "bronze_bls_cpi[\"month\"] = bronze_bls_cpi[\"period\"].apply( lambda x: int(x.replace(\"M\", \"\")))\n",
    "\n",
    "#strip white spaces from series_id\n",
    "bronze_bls_cpi['series_id'] = bronze_bls_cpi['series_id'].str.strip()\n",
    "\n",
    "# convert cpi_value to numeric \n",
    "bronze_bls_cpi['cpi_value'] = pd.to_numeric(bronze_bls_cpi['cpi_value'], errors=\"coerce\")\n",
    "\n",
    "# remove unnecessary columns\n",
    "bronze_bls_cpi = bronze_bls_cpi[[\"series_id\", \"year\", \"month\", \"cpi_value\"]]\n",
    "\n",
    "# filling na values with 0 for cpi value\n",
    "bronze_bls_cpi = bronze_bls_cpi.fillna({'cpi_value':0})"
   ]
  },
  {
   "cell_type": "code",
   "execution_count": 85,
   "id": "485e9697-3106-4e30-babf-45dd1c1d0fb5",
   "metadata": {},
   "outputs": [],
   "source": [
    "# BLS SERIES DATA \n",
    "\n",
    "# update column names to get rid of additional spaces\n",
    "# rename columns for database consistency \n",
    "source_bls_series.columns = [\"series_id\", \"bls_geo_id\", \"item_code\", \"series_name\", \"footnotes\", \n",
    "                             \"begin_year\", \"begin_period\", \"end_year\", \"end_period\"]\n",
    "\n",
    "# strip white spaces from series_id\n",
    "source_bls_series['series_id'] = source_bls_series['series_id'].str.strip()\n",
    "\n",
    "# remove unnecessary columns \n",
    "bronze_bls_series = source_bls_series[[\"series_id\", \"series_name\", \"bls_geo_id\"]]"
   ]
  },
  {
   "cell_type": "code",
   "execution_count": 86,
   "id": "ec2997b5-ccfa-41ec-9e25-5165928cc1fe",
   "metadata": {},
   "outputs": [],
   "source": [
    "# BLS GEO DATA \n",
    "\n",
    "# update column names for database consistency\n",
    "bronze_bls_geo = source_bls_geo\n",
    "bronze_bls_geo.columns = [\"bls_geo_id\", \"bls_geo_name\"]"
   ]
  },
  {
   "cell_type": "code",
   "execution_count": 91,
   "id": "c66d3d11-b657-4eb5-a69b-512a5138b339",
   "metadata": {},
   "outputs": [],
   "source": [
    "# ZILLOW ZORI DATA\n",
    "\n",
    "# upivot dates to columns \n",
    "zillow_columns =  source_zillow.columns\n",
    "zillow_dims = [\"RegionID\", \"SizeRank\", \"RegionName\", \"RegionType\", \"StateName\"]\n",
    "zillow_dates = [c for c in zillow_columns if c not in zillow_dims]\n",
    "int_zillow_unpiv = pd.melt(source_zillow, id_vars=zillow_dims, value_vars=zillow_dates)\n",
    "\n",
    "# keep only msa records\n",
    "int_zillow_unpiv = int_zillow_unpiv[int_zillow_unpiv[\"RegionType\"]==\"msa\"]\n",
    "\n",
    "# rename columns for database consistency\n",
    "int_zillow_unpiv.columns = [\"zillow_geo_id\", \"size_rank\", \"zillow_geo_name\", \"geo_type\", \"state_name\", \"date\", \"zillow_rent_index_value\"]\n",
    "\n",
    "# extract year and month from date\n",
    "int_zillow_unpiv[\"year\"]=int_zillow_unpiv[\"date\"].str[:4].apply(lambda x: int(x))\n",
    "int_zillow_unpiv[\"month\"]=int_zillow_unpiv[\"date\"].str[:7].str[-2:].apply(lambda x: int(x))\n",
    "\n",
    "# normalize data by splitting values and attributes into two tables\n",
    "# exclude unnecessary/duplicative data\n",
    "bronze_zillow_geo = int_zillow_unpiv[[\"zillow_geo_id\", \"zillow_geo_name\"]].drop_duplicates()\n",
    "bronze_zillow_rent_index = int_zillow_unpiv[[\"zillow_geo_id\", \"year\", \"month\", \"zillow_rent_index_value\"]]\n",
    "\n",
    "# filling rent index null values with 0\n",
    "bronze_zillow_rent_index = bronze_zillow_rent_index.fillna({'zillow_rent_index_value':0})"
   ]
  },
  {
   "cell_type": "code",
   "execution_count": 93,
   "id": "ad3eb0cf-aa41-4cec-a685-16c2be8d0933",
   "metadata": {},
   "outputs": [],
   "source": [
    "# CENSUS EARNINGS DATA\n",
    "\n",
    "#remove uncessary/duplicative columns \n",
    "int_census = source_census[[\"geography\", \"geographic_area_name\", \"year\",\n",
    "             \"estimate_total\", \"estimate_total_with_earnings\", \"estimate_total_no_earnings\"]]\n",
    "\n",
    "#rename columns for database consistency\n",
    "int_census.columns = [\"census_geo_id\", \"census_geo_name\", \"year\", \"avg_household_earnings\", \n",
    "            \"avg_household_earnings_with_earnings\", \"avg_household_earnings_no_earnings\" ]\n",
    "\n",
    "\n",
    "#exclude records that are not metro areas \n",
    "int_census = int_census[int_census[\"census_geo_name\"].str.contains(\"Metro Area\")]\n",
    "\n",
    "# normalize data by splitting values and attributes into two tables\n",
    "bronze_census_geo = int_census[[\"census_geo_id\", \"census_geo_name\"]].drop_duplicates()\n",
    "bronze_census_earnings = int_census[[\"census_geo_id\", \"year\", \"avg_household_earnings\", \n",
    "            \"avg_household_earnings_with_earnings\", \"avg_household_earnings_no_earnings\" ]]\n",
    "\n",
    "bronze_census_earnings = bronze_census_earnings.fillna({'avg_household_earnings':0,'avg_household_earnings_with_earnings':0, 'avg_household_earnings_no_earnings':0})"
   ]
  },
  {
   "cell_type": "code",
   "execution_count": 94,
   "id": "8258fd9f-25ec-4817-b6c8-78a72d88e7f5",
   "metadata": {},
   "outputs": [],
   "source": [
    "# GEO MAP \n",
    "# remove geo name to normalize\n",
    "bronze_geo_map = source_geo_map.drop(columns=[\"bls_geo_name\"])"
   ]
  },
  {
   "cell_type": "markdown",
   "id": "65140da5-fd2f-4997-b950-ad99b97ab55e",
   "metadata": {},
   "source": [
    "### CREATE DATABASE"
   ]
  },
  {
   "cell_type": "code",
   "execution_count": 18,
   "id": "26b1be3e-0e1d-4532-8279-3a4635f9dff8",
   "metadata": {},
   "outputs": [],
   "source": [
    "# establish postgres connection to existing database\n",
    "conn = psycopg2.connect(\n",
    "    dbname='jhu',\n",
    "    user='jhu',\n",
    "    password='jhu123',\n",
    "    host='postgres',  \n",
    "    port='5432'\n",
    ")\n",
    "cur = conn.cursor()\n",
    "conn.autocommit = True"
   ]
  },
  {
   "cell_type": "code",
   "execution_count": 19,
   "id": "9085256e-f381-45bc-9774-d371458ccca4",
   "metadata": {},
   "outputs": [],
   "source": [
    "# createn new database within python\n",
    "cur.execute(\"SELECT 1 FROM pg_catalog.pg_database WHERE datname = 'inflation'\")\n",
    "if not cur.fetchone():    # if not exists\n",
    "    cur.execute(sql.SQL('CREATE DATABASE {};').format(sql.Identifier(\"inflation\")))\n",
    "conn.close()"
   ]
  },
  {
   "cell_type": "code",
   "execution_count": 20,
   "id": "3155e3ca-e7a1-4135-b176-569e3653c0d1",
   "metadata": {},
   "outputs": [],
   "source": [
    "# create in docker $ psql -h localhost -p 5432 -U jhu -c \"CREATE DATABASE \\\"Inflation\\\";\""
   ]
  },
  {
   "cell_type": "code",
   "execution_count": 21,
   "id": "5680e6f1-b7f4-4d87-96e0-ad99cf15f24f",
   "metadata": {},
   "outputs": [],
   "source": [
    "# connect to newly created inflation database\n",
    "conn = psycopg2.connect(\n",
    "    dbname='inflation',\n",
    "    user='jhu',\n",
    "    password='jhu123',\n",
    "    host='postgres',  \n",
    "    port='5432'\n",
    ")\n",
    "cur = conn.cursor()\n",
    "conn.autocommit = True"
   ]
  },
  {
   "cell_type": "markdown",
   "id": "eca09948-b858-460b-9960-a0aebdcff9e9",
   "metadata": {},
   "source": [
    "### INSERT DATA "
   ]
  },
  {
   "cell_type": "code",
   "execution_count": 16,
   "id": "a5d586e8-32f9-4712-9a35-7ad99bad01d1",
   "metadata": {},
   "outputs": [],
   "source": [
    "# BLS_CPI "
   ]
  },
  {
   "cell_type": "code",
   "execution_count": 98,
   "id": "4943161b-414b-48f1-b95e-9c25fd619622",
   "metadata": {},
   "outputs": [],
   "source": [
    "# create bls_cpi posgtres table\n",
    "cur.execute(\"DROP TABLE IF EXISTS bls_cpi;\")\n",
    "sql = (\n",
    "        \"\"\"\n",
    "        CREATE TABLE bls_cpi (\n",
    "            id SERIAL PRIMARY KEY,\n",
    "            series_id VARCHAR(13) NOT NULL,\n",
    "            year INT NOT NULL, \n",
    "            month INT NOT NULL,\n",
    "            cpi_value NUMERIC\n",
    "        )\n",
    "        \"\"\" )\n",
    "cur.execute(sql)"
   ]
  },
  {
   "cell_type": "code",
   "execution_count": 99,
   "id": "c52cfd5b-0f2b-4bda-9f78-39b52244a14a",
   "metadata": {},
   "outputs": [],
   "source": [
    "# insert data into table\n",
    "# records = list(bronze_bls_cpi.itertuples(index=False, name=None))\n",
    "\n",
    "# starting index from 1 instead of 0 for SQL ingestion\n",
    "bronze_bls_cpi.index = bronze_bls_cpi.index + 1 \n",
    "bronze_bls_cpi.to_csv(\"TransformedData/bronze_bls_cpi_transformed.csv\")\n",
    "\n",
    "sql = (\n",
    "        \"\"\"\n",
    "        COPY bls_cpi \n",
    "        FROM '/home/jhu/FinalProjectGroup6/TransformedData/bronze_bls_cpi_transformed.csv' CSV HEADER NULL 'NA';\n",
    "        \"\"\" )\n",
    "cur.execute(sql)\n",
    "\n",
    "\n",
    "# sql = (\n",
    "#         \"\"\"\n",
    "#         INSERT INTO bls_cpi (\n",
    "#             series_id, year, month, cpi_value\n",
    "#         ) VALUES (%s, %s, %s, %s)\n",
    "#         \"\"\" )\n",
    "# cur.executemany(sql, records)"
   ]
  },
  {
   "cell_type": "code",
   "execution_count": 24,
   "id": "6c76ac13-79e4-47f5-bf1e-82134c418586",
   "metadata": {},
   "outputs": [],
   "source": [
    "# BLS SERIES"
   ]
  },
  {
   "cell_type": "code",
   "execution_count": 103,
   "id": "bbeb9407-eeeb-48f4-bc61-7f3e3466380c",
   "metadata": {},
   "outputs": [],
   "source": [
    "# create bls_series posgtres table\n",
    "cur.execute(\"DROP TABLE IF EXISTS bls_series;\")\n",
    "sql = (\n",
    "        \"\"\"\n",
    "        CREATE TABLE bls_series (\n",
    "            series_id VARCHAR(13) PRIMARY KEY,\n",
    "            series_name VARCHAR(150) NOT NULL, \n",
    "            bls_geo_id VARCHAR(4) NOT NULL\n",
    "        )\n",
    "        \"\"\" )\n",
    "cur.execute(sql)"
   ]
  },
  {
   "cell_type": "code",
   "execution_count": 104,
   "id": "f86eb123-102a-407f-aae7-d98e1a1af5bc",
   "metadata": {},
   "outputs": [],
   "source": [
    "bronze_bls_series.to_csv(\"TransformedData/bls_series_transformed.csv\", index = False)\n",
    "\n",
    "sql = (\n",
    "        \"\"\"\n",
    "        COPY bls_series \n",
    "        FROM '/home/jhu/FinalProjectGroup6/TransformedData/bls_series_transformed.csv' CSV HEADER NULL 'NA';\n",
    "        \"\"\" )\n",
    "cur.execute(sql)\n",
    "# # insert data into bls_series table\n",
    "# records = list(bronze_bls_series.itertuples(index=False, name=None))\n",
    "\n",
    "# sql = (\n",
    "#         \"\"\"\n",
    "#         INSERT INTO bls_series (\n",
    "#             series_id, series_name, bls_geo_id\n",
    "#         ) VALUES (%s, %s, %s)\n",
    "#         \"\"\" )\n",
    "# cur.executemany(sql, records)"
   ]
  },
  {
   "cell_type": "code",
   "execution_count": 44,
   "id": "7c61042e-88b5-475a-876f-3dab45321687",
   "metadata": {},
   "outputs": [],
   "source": [
    "# BLS GEO"
   ]
  },
  {
   "cell_type": "code",
   "execution_count": 106,
   "id": "5f789ce3-6e2e-4593-bca1-e471c201c63c",
   "metadata": {},
   "outputs": [],
   "source": [
    "# create bls_geo posgtres table\n",
    "cur.execute(\"DROP TABLE IF EXISTS bls_geo;\")\n",
    "sql = (\n",
    "        \"\"\"\n",
    "        CREATE TABLE bls_geo (\n",
    "            bls_geo_id VARCHAR(4) PRIMARY KEY,\n",
    "            bls_geo_name VARCHAR(50) NOT NULL \n",
    "        )\n",
    "        \"\"\" )\n",
    "cur.execute(sql)"
   ]
  },
  {
   "cell_type": "code",
   "execution_count": 107,
   "id": "d20a000d-021a-44ac-bf5e-2f4eb416d4d9",
   "metadata": {},
   "outputs": [],
   "source": [
    "# insert data into bls_geo table\n",
    "# records = list(bronze_bls_geo.itertuples(index=False, name=None))\n",
    "\n",
    "# sql = (\n",
    "#         \"\"\"\n",
    "#         INSERT INTO bls_geo (\n",
    "#             bls_geo_id, bls_geo_name\n",
    "#         ) VALUES (%s, %s)\n",
    "#         \"\"\" )\n",
    "# cur.executemany(sql, records)\n",
    "\n",
    "bronze_bls_geo.to_csv(\"TransformedData/bronze_bls_geo_transformed.csv\", index = False)\n",
    "\n",
    "sql = (\n",
    "        \"\"\"\n",
    "        COPY bls_geo \n",
    "        FROM '/home/jhu/FinalProjectGroup6/TransformedData/bronze_bls_geo_transformed.csv' CSV HEADER NULL 'NA';\n",
    "        \"\"\" )\n",
    "\n",
    "\n",
    "\n"
   ]
  },
  {
   "cell_type": "code",
   "execution_count": 47,
   "id": "d362ba84-41e3-4326-ac9c-5470ffdff884",
   "metadata": {},
   "outputs": [],
   "source": [
    "# ZILLOW GEO"
   ]
  },
  {
   "cell_type": "code",
   "execution_count": 111,
   "id": "3c75babe-0a2c-40f7-a9ef-13c516fa4c62",
   "metadata": {},
   "outputs": [],
   "source": [
    "# create zillow_geo\n",
    "cur.execute(\"DROP TABLE IF EXISTS zillow_geo;\")\n",
    "sql = (\n",
    "        \"\"\"\n",
    "        CREATE TABLE zillow_geo (\n",
    "            zillow_geo_id INT PRIMARY KEY,\n",
    "            zillow_geo_name VARCHAR(25) NOT NULL \n",
    "        )\n",
    "        \"\"\" )\n",
    "cur.execute(sql)"
   ]
  },
  {
   "cell_type": "code",
   "execution_count": 112,
   "id": "39a0466b-a3cd-4c75-8bb0-366bf06638a4",
   "metadata": {},
   "outputs": [],
   "source": [
    "# insert data into zillow_geo table\n",
    "# records = list(bronze_zillow_geo.itertuples(index=False, name=None))\n",
    "\n",
    "# sql = (\n",
    "#         \"\"\"\n",
    "#         INSERT INTO zillow_geo (\n",
    "#             zillow_geo_id, zillow_geo_name\n",
    "#         ) VALUES (%s, %s)\n",
    "#         \"\"\" )\n",
    "# cur.executemany(sql, records)\n",
    "\n",
    "bronze_zillow_geo.to_csv(\"TransformedData/bronze_zillow_geo_transformed.csv\", index = False)\n",
    "\n",
    "sql = (\n",
    "        \"\"\"\n",
    "        COPY zillow_geo \n",
    "        FROM '/home/jhu/FinalProjectGroup6/TransformedData/bronze_zillow_geo_transformed.csv' CSV HEADER NULL 'NA';\n",
    "        \"\"\" )\n",
    "\n",
    "\n"
   ]
  },
  {
   "cell_type": "code",
   "execution_count": 50,
   "id": "32086426-8d6b-415e-b947-915332f88920",
   "metadata": {},
   "outputs": [],
   "source": [
    "# ZILLOW RENT INDEX"
   ]
  },
  {
   "cell_type": "code",
   "execution_count": 113,
   "id": "fe2c37a6-d3c3-426d-8f75-b6e944f7ad9d",
   "metadata": {},
   "outputs": [],
   "source": [
    "# create zillow_rent_index\n",
    "cur.execute(\"DROP TABLE IF EXISTS zillow_rent_index;\")\n",
    "sql = (\n",
    "        \"\"\"\n",
    "        CREATE TABLE zillow_rent_index (\n",
    "            id SERIAL PRIMARY KEY,\n",
    "            zillow_geo_id INT NOT NULL,\n",
    "            year INT NOT NULL,\n",
    "            month INT NOT NULL,\n",
    "            zillow_rent_index_value NUMERIC\n",
    "        )\n",
    "        \"\"\" )\n",
    "cur.execute(sql)"
   ]
  },
  {
   "cell_type": "code",
   "execution_count": 114,
   "id": "8a1d8589-941c-4f2b-910a-39f76a98e461",
   "metadata": {},
   "outputs": [],
   "source": [
    "# insert data into zillow_rent_index table\n",
    "# records = list(bronze_zillow_rent_index.itertuples(index=False, name=None))\n",
    "\n",
    "# sql = (\n",
    "#         \"\"\"\n",
    "#         INSERT INTO zillow_rent_index (\n",
    "#             zillow_geo_id, year, month, zillow_rent_index_value\n",
    "#         ) VALUES (%s, %s, %s, %s)\n",
    "#         \"\"\" )\n",
    "# cur.executemany(sql, records)\n",
    "bronze_zillow_rent_index.to_csv(\"TransformedData/bronze_zillow_rent_index_transformed.csv\", index = False)\n",
    "\n",
    "sql = (\n",
    "        \"\"\"\n",
    "        COPY zillow_rent_index \n",
    "        FROM '/home/jhu/FinalProjectGroup6/TransformedData/bronze_zillow_rent_index_transformed.csv' CSV HEADER NULL 'NA';\n",
    "        \"\"\" )\n",
    "\n",
    "\n"
   ]
  },
  {
   "cell_type": "code",
   "execution_count": 31,
   "id": "4e64c3b6-4f72-4b0a-a776-9721d6e70082",
   "metadata": {},
   "outputs": [],
   "source": [
    "# CENSUS GEO"
   ]
  },
  {
   "cell_type": "code",
   "execution_count": 115,
   "id": "f6fa28ec-d4cf-4823-bc56-c0cbd74f3778",
   "metadata": {},
   "outputs": [],
   "source": [
    "# create census_geo\n",
    "cur.execute(\"DROP TABLE IF EXISTS census_geo;\")\n",
    "sql = (\n",
    "        \"\"\"\n",
    "        CREATE TABLE census_geo (\n",
    "            census_geo_id VARCHAR(14) PRIMARY KEY,\n",
    "            census_geo_name VARCHAR(60) NOT NULL \n",
    "        )\n",
    "        \"\"\" )\n",
    "cur.execute(sql)"
   ]
  },
  {
   "cell_type": "code",
   "execution_count": 116,
   "id": "7a02eba1-bb58-4af4-a13e-5d3a1ae118a3",
   "metadata": {},
   "outputs": [],
   "source": [
    "# insert data into census_geo\n",
    "# records = list(bronze_census_geo.itertuples(index=False, name=None))\n",
    "\n",
    "# sql = (\n",
    "#         \"\"\"\n",
    "#         INSERT INTO census_geo (\n",
    "#             census_geo_id, census_geo_name\n",
    "#         ) VALUES (%s, %s)\n",
    "#         \"\"\" )\n",
    "# cur.executemany(sql, records)\n",
    "bronze_census_geo.to_csv(\"TransformedData/bronze_census_geo_transformed.csv\", index = False)\n",
    "\n",
    "sql = (\n",
    "        \"\"\"\n",
    "        COPY census_geo \n",
    "        FROM '/home/jhu/FinalProjectGroup6/TransformedData/bronze_census_geo_transformed.csv' CSV HEADER NULL 'NA';\n",
    "        \"\"\" )\n",
    "\n",
    "\n"
   ]
  },
  {
   "cell_type": "code",
   "execution_count": 34,
   "id": "e80765b5-5e01-4bef-96ab-0bb79eedf073",
   "metadata": {},
   "outputs": [],
   "source": [
    "# CENSUS EARNINGS"
   ]
  },
  {
   "cell_type": "code",
   "execution_count": 118,
   "id": "10a8516d-36b2-4598-8b36-5b58e74f3dda",
   "metadata": {},
   "outputs": [],
   "source": [
    "# create census_earnings\n",
    "cur.execute(\"DROP TABLE IF EXISTS census_earnings;\")\n",
    "sql = (\n",
    "        \"\"\"\n",
    "        CREATE TABLE census_earnings (\n",
    "            id SERIAL PRIMARY KEY,\n",
    "            census_geo_id VARCHAR(14) NOT NULL,\n",
    "            year INT NOT NULL,\n",
    "            avg_household_earnings INT, \n",
    "            avg_household_earnings_with_earnings INT, \n",
    "            avg_household_earnings_no_earnings INT\n",
    "        )\n",
    "        \"\"\" )\n",
    "cur.execute(sql)"
   ]
  },
  {
   "cell_type": "code",
   "execution_count": 119,
   "id": "b19e5c6d-2204-4d72-a463-4dffc8dff0da",
   "metadata": {},
   "outputs": [],
   "source": [
    "# insert data into census_earnings\n",
    "# records = list(bronze_census_earnings.itertuples(index=False, name=None))\n",
    "\n",
    "# sql = (\n",
    "#         \"\"\"\n",
    "#         INSERT INTO census_earnings (\n",
    "#             census_geo_id, year, avg_household_earnings,\n",
    "#             avg_household_earnings_with_earnings, \n",
    "#             avg_household_earnings_no_earnings\n",
    "#         ) VALUES (%s, %s, %s, %s, %s)\n",
    "#         \"\"\" )\n",
    "# cur.executemany(sql, records)\n",
    "\n",
    "#Changing the index to start from 1 instead of 0 to ingest into SQL\n",
    "bronze_census_earnings.index = bronze_census_earnings.index+1\n",
    "bronze_census_earnings.to_csv(\"TransformedData/bronze_census_earnings_transformed.csv\")\n",
    "\n",
    "sql = (\n",
    "        \"\"\"\n",
    "        COPY census_earnings \n",
    "        FROM '/home/jhu/FinalProjectGroup6/TransformedData/bronze_census_earnings_transformed.csv' CSV HEADER NULL 'NA';\n",
    "        \"\"\" )\n",
    "\n",
    "\n"
   ]
  },
  {
   "cell_type": "code",
   "execution_count": 37,
   "id": "a8e11245-e05d-486d-ba63-ac6f1e59749b",
   "metadata": {},
   "outputs": [],
   "source": [
    "# GEO MAP"
   ]
  },
  {
   "cell_type": "code",
   "execution_count": 120,
   "id": "12c70f97-c124-493d-b677-aaf28d635808",
   "metadata": {},
   "outputs": [],
   "source": [
    "# create geo_map\n",
    "cur.execute(\"DROP TABLE IF EXISTS geo_map;\")\n",
    "sql = (\n",
    "        \"\"\"\n",
    "        CREATE TABLE geo_map (\n",
    "            bls_geo_id VARCHAR(4) PRIMARY KEY,\n",
    "            zillow_geo_id  INT NOT NULL,\n",
    "            census_geo_id VARCHAR(14) NOT NULL\n",
    "        )\n",
    "        \"\"\" )\n",
    "cur.execute(sql)"
   ]
  },
  {
   "cell_type": "code",
   "execution_count": 121,
   "id": "17dc6b83-d6f7-4442-8ad6-7d469058ca61",
   "metadata": {},
   "outputs": [],
   "source": [
    "# insert data into geo_map\n",
    "# records = list(bronze_geo_map.itertuples(index=False, name=None))\n",
    "\n",
    "# sql = (\n",
    "#         \"\"\"\n",
    "#         INSERT INTO geo_map (\n",
    "#             bls_geo_id, zillow_geo_id, census_geo_id\n",
    "#         ) VALUES (%s, %s, %s)\n",
    "#         \"\"\" )\n",
    "# cur.executemany(sql, records)\n",
    "\n",
    "bronze_geo_map.to_csv(\"TransformedData/bronze_geo_map_transformed.csv\", index = False)\n",
    "\n",
    "sql = (\n",
    "        \"\"\"\n",
    "        COPY geo_map \n",
    "        FROM '/home/jhu/FinalProjectGroup6/TransformedData/bronze_geo_map_transformed.csv' CSV HEADER NULL 'NA';\n",
    "        \"\"\" )"
   ]
  },
  {
   "cell_type": "markdown",
   "id": "87edd334-1274-49f7-a6ca-b2f570195e53",
   "metadata": {},
   "source": [
    "### JOINED VIEW"
   ]
  },
  {
   "cell_type": "code",
   "execution_count": 122,
   "id": "5b56dfb9-a02f-446f-bbc1-154bbc165572",
   "metadata": {},
   "outputs": [],
   "source": [
    "# sql = (\n",
    "#         \"\"\"\n",
    "#         CREATE TABLE inflation_joined AS\n",
    "#         select \n",
    "#         \tbc.year \n",
    "#         \t, bc.month \n",
    "#         \t, bc.cpi_value\n",
    "#         \t, bs.series_name\n",
    "#         \t, bg.bls_geo_name\n",
    "#         \t, z.zillow_rent_index_value\n",
    "#         \t, c.avg_household_earnings as acs_annual_earnings_per_household\n",
    "#         \tfrom bls_cpi bc\n",
    "#         \tjoin bls_series bs on bc.series_id = bs.series_id\n",
    "#         \tjoin bls_geo bg on bs.bls_geo_id = bg.bls_geo_id\n",
    "#         \tjoin geo_map g on bg.bls_geo_id = g.bls_geo_id\n",
    "#         \tleft join census_earnings c \n",
    "#         \t\ton g.census_geo_id = c.census_geo_id\n",
    "#         \t\tand bc.year = c.year \n",
    "#         \tleft join zillow_rent_index z on g.zillow_geo_id = z.zillow_geo_id \n",
    "#         \t\tand bc.year = z.year \n",
    "#         \t\tand bc.month = z.month\n",
    "#         \twhere bc.year >= 2015 \n",
    "#         \tand bc.year <= 2022\n",
    "#         \"\"\" )\n",
    "# cur.execute(sql, records)"
   ]
  },
  {
   "cell_type": "code",
   "execution_count": null,
   "id": "2a66ecac-3bf4-4dd5-ad94-b6e095251845",
   "metadata": {},
   "outputs": [],
   "source": []
  }
 ],
 "metadata": {
  "kernelspec": {
   "display_name": "Python 3 (ipykernel)",
   "language": "python",
   "name": "python3"
  },
  "language_info": {
   "codemirror_mode": {
    "name": "ipython",
    "version": 3
   },
   "file_extension": ".py",
   "mimetype": "text/x-python",
   "name": "python",
   "nbconvert_exporter": "python",
   "pygments_lexer": "ipython3",
   "version": "3.10.12"
  }
 },
 "nbformat": 4,
 "nbformat_minor": 5
}

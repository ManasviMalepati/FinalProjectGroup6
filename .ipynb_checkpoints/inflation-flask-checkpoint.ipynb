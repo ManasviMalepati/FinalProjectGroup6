{
 "cells": [
  {
   "cell_type": "markdown",
   "id": "38b979fb-699a-49ab-a1e2-45420acee6ed",
   "metadata": {},
   "source": [
    "##  INFLATION API"
   ]
  },
  {
   "cell_type": "code",
   "execution_count": 6,
   "id": "10486a64-1779-476d-a6a8-60b17e766ffb",
   "metadata": {},
   "outputs": [],
   "source": [
    "import requests\n",
    "import json"
   ]
  },
  {
   "cell_type": "markdown",
   "id": "b4cc6ef0-ec96-4ca7-997e-1bcc32798ba6",
   "metadata": {},
   "source": [
    "## AGGREGATE MOST RECENT DATA"
   ]
  },
  {
   "cell_type": "code",
   "execution_count": 7,
   "id": "2af2149c-ac11-4dbf-ae7a-ab59c671f482",
   "metadata": {},
   "outputs": [
    {
     "name": "stdout",
     "output_type": "stream",
     "text": [
      "Message: {'message': 'data successfully aggregated'}\n"
     ]
    }
   ],
   "source": [
    "url = 'http://localhost:8001/api/aggregate_data'\n",
    "response = requests.post(url)\n",
    "print('Message:', json.loads(response.content))"
   ]
  },
  {
   "cell_type": "markdown",
   "id": "28eef7aa-394b-4996-af8d-5e4eb7358eaa",
   "metadata": {},
   "source": [
    "## GET AVAILABLE METRO CODES"
   ]
  },
  {
   "cell_type": "code",
   "execution_count": 3,
   "id": "276f847c-c3e4-4f2b-b492-4a1d55b575ac",
   "metadata": {},
   "outputs": [
    {
     "name": "stdout",
     "output_type": "stream",
     "text": [
      "Available Metros: {'ATL': 'Atlanta, GA', 'BAL': 'Baltimore, MD', 'BOS': 'Boston, MA', 'BUF': 'Buffalo, NY', 'CHI': 'Chicago, IL', 'CIN': 'Cincinnati, OH', 'CLE': 'Cleveland, OH', 'DAL': 'Dallas, TX', 'DEN': 'Denver, CO', 'DET': 'Detroit, MI', 'HON': 'Urban Honolulu, HI', 'HOU': 'Houston, TX', 'KAN': 'Kansas City, MO', 'LOS': 'Los Angeles, CA', 'MIA': 'Miami, FL', 'MIL': 'Milwaukee, WI', 'MIN': 'Minneapolis, MN', 'NEW': 'New York, NY', 'PHI': 'Philadelphia, PA', 'PHO': 'Phoenix, AZ', 'PIT': 'Pittsburgh, PA', 'POR': 'Portland, OR', 'RIV': 'Riverside, CA', 'SAN': 'San Francisco, CA', 'SEA': 'Seattle, WA', 'STL': 'St. Louis, MO', 'TAM': 'Tampa, FL', 'WAS': 'Washington, DC'}\n"
     ]
    }
   ],
   "source": [
    "url = 'http://localhost:8001/api/get_metros'\n",
    "response = requests.get(url)\n",
    "print('Available Metros:', json.loads(response.content))"
   ]
  },
  {
   "cell_type": "markdown",
   "id": "70bc54ef-1136-416b-a867-4d70432b29b5",
   "metadata": {},
   "source": [
    "## GET METRICS FOR SELECTED METRO"
   ]
  },
  {
   "cell_type": "markdown",
   "id": "6cb25702-e501-48e9-8016-17c93532c593",
   "metadata": {},
   "source": [
    "Accepts JSON object containing requested metro code and year (2015-2019, 2021-2022) from list above. Example: {'metro' : 'ATL', 'year': 2019 }"
   ]
  },
  {
   "cell_type": "code",
   "execution_count": 4,
   "id": "58cd962f-3063-476f-997e-665cad236941",
   "metadata": {},
   "outputs": [
    {
     "name": "stdout",
     "output_type": "stream",
     "text": [
      "Available Metros: {'Avg Household Earnings': 2294560.0, 'Electricity CPI': 0.12, 'Metro': 'Atlanta, GA', 'Unleaded Gasoline CPI': 2.42, 'Utility Gas CPI': 1.76, 'Year': 2019, 'Zillow Rent Index': 1398.47}\n"
     ]
    }
   ],
   "source": [
    "url = 'http://localhost:8001/api/get_means'\n",
    "data = { 'metro': 'ATL', 'year' : 2019 }\n",
    "response = requests.get(url, json=data)\n",
    "print('Available Metros:', json.loads(response.content))"
   ]
  },
  {
   "cell_type": "markdown",
   "id": "cd4d78a7-d816-4f0d-b223-cf208da8f5f5",
   "metadata": {},
   "source": [
    "## GET CORRELATIONS BETWEEN SELECTED METRIC"
   ]
  },
  {
   "cell_type": "markdown",
   "id": "5027e323-92db-409e-ba61-fa9733e2332e",
   "metadata": {},
   "source": [
    "Accepts JSON object containing two of the following metrics: \n",
    "'zillow_rent_index_value', 'avg_household_earnings', 'unleaded_gas_cpi', 'electricity_cpi', 'utility_gas_cpi'"
   ]
  },
  {
   "cell_type": "code",
   "execution_count": 5,
   "id": "c00416f0-22f6-4e23-b717-de53cc4b5cae",
   "metadata": {},
   "outputs": [
    {
     "name": "stdout",
     "output_type": "stream",
     "text": [
      "Correlation: {'Correlation': 0.590290161161376, 'Metrics': 'zillow_rent_index_value ~ unleaded_gas_cpi'}\n"
     ]
    }
   ],
   "source": [
    "url = 'http://localhost:8001/api/get_correlations'\n",
    "data = { 'metric1': 'zillow_rent_index_value', 'metric2': 'unleaded_gas_cpi' }\n",
    "response = requests.get(url, json=data)\n",
    "print('Correlation:', json.loads(response.content))"
   ]
  },
  {
   "cell_type": "code",
   "execution_count": null,
   "id": "aa7ab4bf-fc6d-4461-b1e7-ddae5e6f1c6a",
   "metadata": {},
   "outputs": [],
   "source": []
  },
  {
   "cell_type": "code",
   "execution_count": null,
   "id": "36ef1307-2320-48e8-b1b0-7793de773188",
   "metadata": {},
   "outputs": [],
   "source": []
  }
 ],
 "metadata": {
  "kernelspec": {
   "display_name": "Python 3 (ipykernel)",
   "language": "python",
   "name": "python3"
  },
  "language_info": {
   "codemirror_mode": {
    "name": "ipython",
    "version": 3
   },
   "file_extension": ".py",
   "mimetype": "text/x-python",
   "name": "python",
   "nbconvert_exporter": "python",
   "pygments_lexer": "ipython3",
   "version": "3.10.12"
  }
 },
 "nbformat": 4,
 "nbformat_minor": 5
}

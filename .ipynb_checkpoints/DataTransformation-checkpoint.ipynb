{
 "cells": [
  {
   "cell_type": "code",
   "execution_count": null,
   "id": "586aaa99-2a2c-4adb-86fc-e53991d5a755",
   "metadata": {},
   "outputs": [],
   "source": [
    "#Final Project Group 6"
   ]
  }
 ],
 "metadata": {
  "kernelspec": {
   "display_name": "Python 3 (ipykernel)",
   "language": "python",
   "name": "python3"
  },
  "language_info": {
   "codemirror_mode": {
    "name": "ipython",
    "version": 3
   },
   "file_extension": ".py",
   "mimetype": "text/x-python",
   "name": "python",
   "nbconvert_exporter": "python",
   "pygments_lexer": "ipython3",
   "version": "3.10.12"
  }
 },
 "nbformat": 4,
 "nbformat_minor": 5
}
